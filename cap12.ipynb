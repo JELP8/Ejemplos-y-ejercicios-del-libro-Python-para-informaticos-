{
 "cells": [
  {
   "cell_type": "code",
   "execution_count": 3,
   "metadata": {},
   "outputs": [
    {
     "name": "stdout",
     "output_type": "stream",
     "text": [
      "b'But soft what light through yonder window breaks'\n",
      "b'It is the east and Juliet is the sun'\n",
      "b'Arise fair sun and kill the envious moon'\n",
      "b'Who is already sick and pale with grief'\n"
     ]
    }
   ],
   "source": [
    "import urllib.request\n",
    "manf = urllib.request.urlopen('http://www.py4inf.com/code/romeo.txt')\n",
    "for linea in manf:\n",
    "    print (linea.strip())"
   ]
  },
  {
   "cell_type": "code",
   "execution_count": 9,
   "metadata": {},
   "outputs": [
    {
     "name": "stdout",
     "output_type": "stream",
     "text": [
      "{b'But': 1, b'soft': 1, b'what': 1, b'light': 1, b'through': 1, b'yonder': 1, b'window': 1, b'breaks': 1, b'It': 1, b'is': 3, b'the': 3, b'east': 1, b'and': 3, b'Juliet': 1, b'sun': 2, b'Arise': 1, b'fair': 1, b'kill': 1, b'envious': 1, b'moon': 1, b'Who': 1, b'already': 1, b'sick': 1, b'pale': 1, b'with': 1, b'grief': 1}\n"
     ]
    }
   ],
   "source": [
    "import urllib.request\n",
    "contadores = dict()\n",
    "manf = urllib.request.urlopen('http://www.py4inf.com/code/romeo.txt')\n",
    "for linea in manf:\n",
    "    palabras = linea.split()\n",
    "    for palabra in palabras:\n",
    "        contadores[palabra] = contadores.get(palabra,0) + 1\n",
    "print (contadores)"
   ]
  },
  {
   "cell_type": "code",
   "execution_count": 7,
   "metadata": {},
   "outputs": [
    {
     "name": "stdout",
     "output_type": "stream",
     "text": [
      "Introduzca - http://www.dr-chuck.com/page1.htm\n",
      "<class 'bytes'>\n",
      "href=\"http://www.dr-chuck.com/page2.htm\"\n",
      "<class 'bytes'>\n"
     ]
    }
   ],
   "source": [
    "import urllib.request\n",
    "import re\n",
    "url = input('Introduzca - ')\n",
    "html = urllib.request.urlopen(url).read()\n",
    "print(type(html))\n",
    "enlaces = re.findall(bytes('href=\"http://.*?\"', 'ascii'), html)\n",
    "for enlace in enlaces:\n",
    "    print (str(enlace, 'ascii'))  "
   ]
  },
  {
   "cell_type": "code",
   "execution_count": 1,
   "metadata": {},
   "outputs": [
    {
     "name": "stdout",
     "output_type": "stream",
     "text": [
      "Introduzca - http://www.dr-chuck.com/page1.htm\n",
      "http://www.dr-chuck.com/page2.htm\n"
     ]
    }
   ],
   "source": [
    "import urllib.request\n",
    "from bs4 import BeautifulSoup\n",
    "url = input('Introduzca - ')\n",
    "html = urllib.request.urlopen(url).read()\n",
    "sopa = BeautifulSoup(html)\n",
    "# Recupera todas las etiquetas de anclaje\n",
    "etiquetas = sopa('a')\n",
    "for etiqueta in etiquetas:\n",
    "    print (etiqueta.get('href', None))"
   ]
  },
  {
   "cell_type": "code",
   "execution_count": 9,
   "metadata": {},
   "outputs": [],
   "source": [
    "import urllib.request\n",
    "img = urllib.request.urlopen('http://www.py4inf.com').read()\n",
    "manf = open('portada.txt', 'w')\n",
    "manf.write(str(img))\n",
    "manf.close()"
   ]
  },
  {
   "cell_type": "code",
   "execution_count": 7,
   "metadata": {},
   "outputs": [
    {
     "name": "stdout",
     "output_type": "stream",
     "text": [
      "70057 caracteres copiados.\n"
     ]
    }
   ],
   "source": [
    "import urllib\n",
    "img = urllib.request.urlopen('http://www.py4inf.com/cover.jpg')\n",
    "manf = open('portada.txt', 'w')\n",
    "tamano = 0\n",
    "while True:\n",
    "    info = img.read(100000)\n",
    "    if len(info) < 1 : break\n",
    "    tamano = tamano + len(info)\n",
    "    manf.write(str(info))\n",
    "print(tamano,'caracteres copiados.')\n",
    "manf.close()"
   ]
  },
  {
   "cell_type": "code",
   "execution_count": 2,
   "metadata": {},
   "outputs": [
    {
     "name": "stdout",
     "output_type": "stream",
     "text": [
      "Ingrese una url: http://www.py4inf.com/code/romeo-full.txt\n",
      "Romeo and Juliet\n",
      "Act 2, Scene 2 \n",
      "\n",
      "SCENE II. Capulet's orchard.\n",
      "\n",
      "Enter ROMEO\n",
      "\n",
      "ROMEO\n",
      "\n",
      "He jests at scars that never felt a wound.\n",
      "JULIET appears above at a window\n",
      "\n",
      "But, soft! what light through yonder window breaks?\n",
      "It is the east, and Juliet is the sun.\n",
      "Arise, fair sun, and kill the envious moon,\n",
      "Who is already sick and pale with grief,\n",
      "That thou her maid art far more fair than she:\n",
      "Be not her maid, since she is envious;\n",
      "Her vestal livery is but sick and green\n",
      "And none but fools do wear it; cast it off.\n",
      "It is my lady, O, it is my love!\n",
      "O, that she knew she were!\n",
      "She speaks yet she says nothing: what of that?\n",
      "Her eye discourses; I will answer it.\n",
      "I am too bold, 'tis not to me she speaks:\n",
      "Two of the fairest stars in all the heaven,\n",
      "Having some business, do entreat her eyes\n",
      "To twinkle in their spheres till they return.\n",
      "What if her eyes were there, they in her head?\n",
      "The brightness of her cheek would shame those stars,\n",
      "As daylight doth a lamp; her eyes in heaven\n",
      "Would through the airy region stream so bright\n",
      "That birds would sing and think it were not night.\n",
      "See, how she leans her cheek upon her hand!\n",
      "O, that I were a glove upon that hand,\n",
      "That I might touch that cheek!\n",
      "\n",
      "JULIET\n",
      "\n",
      "Ay me!\n",
      "\n",
      "ROMEO\n",
      "\n",
      "She speaks:\n",
      "O, speak again, bright angel! for thou art\n",
      "As glorious to this night, being o'er my head\n",
      "As is a winged messenger of heaven\n",
      "Unto the white-upturned wondering eyes\n",
      "Of mortals that fall back to gaze on him\n",
      "When he bestrides the lazy-pacing clouds\n",
      "And sails upon the bosom of the air.\n",
      "\n",
      "JULIET\n",
      "\n",
      "O Romeo, Romeo! wherefore art thou Romeo?\n",
      "Deny thy father and refuse thy name;\n",
      "Or, if thou wilt not, be but sworn my love,\n",
      "And I'll no longer be a Capulet.\n",
      "\n",
      "ROMEO\n",
      "\n",
      "[Aside] Shall I hear more, or shall I speak at this?\n",
      "\n",
      "JULIET\n",
      "\n",
      "'Tis but thy name that is my enemy;\n",
      "Thou art thyself, though not a Montague.\n",
      "What's Montague? it is nor hand, nor foot,\n",
      "Nor arm, nor face, nor any other part\n",
      "Belonging to a man. O, be some other name!\n",
      "What's in a name? that which we call a rose\n",
      "By any other name would smell as sweet;\n",
      "So Romeo would, were he not Romeo call'd,\n",
      "Retain that dear perfection which he owes\n",
      "Without that title. Romeo, doff thy name,\n",
      "And for that name which is no part of thee\n",
      "Take all myself.\n",
      "\n",
      "ROMEO\n",
      "\n",
      "I take thee at thy word:\n",
      "Call me but love, and I'll be new baptized;\n",
      "Henceforth I never will be Romeo.\n",
      "\n",
      "JULIET\n",
      "\n",
      "What man art thou that thus bescreen'd in night\n",
      "So stumblest on my counsel?\n",
      "\n",
      "ROMEO\n",
      "\n",
      "By a name\n",
      "I know not how to tell thee who I am:\n",
      "My name, dear saint, is hateful to myself,\n",
      "Because it is an enemy to thee;\n",
      "Had I it written, I would tear the word.\n",
      "\n",
      "JULIET\n",
      "\n",
      "My ears have not yet drunk a hundred words\n",
      "Of that tongue's utterance, yet I know the sound:\n",
      "Art thou not Romeo and a Montague?\n",
      "\n",
      "ROMEO\n",
      "\n",
      "Neither, fair saint, if either thee dislike.\n",
      "\n",
      "JULIET\n",
      "\n",
      "How camest thou hither, tell me, and wherefore?\n",
      "The orchard walls are high and hard to climb,\n",
      "And the place death, considering who thou art,\n",
      "If any of my kinsmen find thee here.\n",
      "\n",
      "ROMEO\n",
      "\n",
      "With love's light wings did I o'er-perch \n",
      "8864\n"
     ]
    }
   ],
   "source": [
    "#Ejercicio 12.3\n",
    "\n",
    "import urllib \n",
    "url = input('Ingrese una url: ')\n",
    "leer = urllib.request.urlopen(url)\n",
    "leer1 = leer.read(3000)\n",
    "print(str(leer1, 'ascii'))\n",
    "caracteres = 0\n",
    "while len(leer1) > 1:\n",
    "    caracteres = caracteres + len(leer1)\n",
    "    leer1 = leer.read(3000)\n",
    "print(caracteres)"
   ]
  }
 ],
 "metadata": {
  "kernelspec": {
   "display_name": "Python 3",
   "language": "python",
   "name": "python3"
  },
  "language_info": {
   "codemirror_mode": {
    "name": "ipython",
    "version": 3
   },
   "file_extension": ".py",
   "mimetype": "text/x-python",
   "name": "python",
   "nbconvert_exporter": "python",
   "pygments_lexer": "ipython3",
   "version": "3.7.4"
  }
 },
 "nbformat": 4,
 "nbformat_minor": 2
}
