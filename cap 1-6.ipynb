{
 "cells": [
  {
   "cell_type": "code",
   "execution_count": 13,
   "metadata": {},
   "outputs": [
    {
     "name": "stdout",
     "output_type": "stream",
     "text": [
      "Cuántas horas trabajó? 15\n",
      "A cuánto la hora? 12\n",
      "Su salario es: 180.0\n"
     ]
    }
   ],
   "source": [
    "try:\n",
    "    horas = float(input('Cuántas horas trabajó? '))\n",
    "    tarifa = float(input('A cuánto la hora? '))\n",
    "    exedente = horas - 40\n",
    "    if exedente <= 0:\n",
    "        salario = horas*tarifa        \n",
    "    else:\n",
    "        salario = 40*tarifa + exedente*tarifa*1.5\n",
    "    print('Su salario es: {}'.format(salario))\n",
    "except:\n",
    "    print('Por favor, ingrese sólo números. Gracias.')\n",
    "        \n"
   ]
  },
  {
   "cell_type": "code",
   "execution_count": 17,
   "metadata": {},
   "outputs": [
    {
     "name": "stdout",
     "output_type": "stream",
     "text": [
      "La calificación es: 0.92\n",
      "Sobresaliente\n"
     ]
    }
   ],
   "source": [
    "try:\n",
    "    calificacion = float(input('La calificación es: '))\n",
    "    if calificacion > 1 or calificacion < 0:\n",
    "        print('El número entre 0 y 1')\n",
    "    elif calificacion < 0.6:\n",
    "        print('Insuficiente')\n",
    "    elif calificacion >= 0.6 and calificacion < 0.7:\n",
    "        print('Suficiente')\n",
    "    elif calificacion >= 0.7 and calificacion < 0.8:\n",
    "        print('Bien')\n",
    "    elif calificacion >= 0.8 and calificacion < 0.9:\n",
    "        print('Notable')\n",
    "    elif calificacion >= 0.9:\n",
    "        print('Sobresaliente')\n",
    "except:\n",
    "    print('Ingrese un número entre 0 y 1')\n",
    "    "
   ]
  },
  {
   "cell_type": "code",
   "execution_count": 1,
   "metadata": {},
   "outputs": [
    {
     "name": "stdout",
     "output_type": "stream",
     "text": [
      "¡NÚMEROS!\n",
      "Su salario es: 475.0\n"
     ]
    }
   ],
   "source": [
    "#Ejercicio 4.6\n",
    "\n",
    "def sueldo(horas, tarifa):\n",
    "    try:\n",
    "        exedente = horas - 40\n",
    "        if float(exedente) <= 0:\n",
    "            salario = float(horas*tarifa)\n",
    "        else:\n",
    "            salario = float(40*tarifa + exedente*tarifa*1.5)\n",
    "        return print('Su salario es: {}'.format(salario))\n",
    "    except:\n",
    "        print('¡NÚMEROS!')\n",
    " \n",
    "sueldo(5,'x')\n",
    "sueldo(45,10)"
   ]
  },
  {
   "cell_type": "code",
   "execution_count": 1,
   "metadata": {},
   "outputs": [
    {
     "name": "stdout",
     "output_type": "stream",
     "text": [
      "ingrese un número: 15\n",
      "ingrese un número: 132\n",
      "ingrese un número: sd\n",
      "Por favor, ingrese sólo números. Gracias.\n",
      "ingrese un número: 15\n",
      "ingrese un número: 2\n",
      "ingrese un número: fin\n",
      "total, cantidad y media: 164.0, 4, 41.0\n"
     ]
    }
   ],
   "source": [
    "#Ejercicio 5.1\n",
    "\n",
    "contador = 0\n",
    "total = 0\n",
    "while True:\n",
    "    try:\n",
    "        x = input('ingrese un número: ')\n",
    "        if x != 'fin':\n",
    "            total = float(x) + total\n",
    "            contador = contador + 1\n",
    "        if x == 'fin':\n",
    "            break\n",
    "        media = total/contador\n",
    "    except:\n",
    "        print('Por favor, ingrese sólo números. Gracias.')\n",
    "print('total, cantidad y media: {}, {}, {}'.format(total,contador,media))"
   ]
  },
  {
   "cell_type": "code",
   "execution_count": 2,
   "metadata": {},
   "outputs": [],
   "source": [
    "#ejercicio 6.3\n",
    "\n",
    "def cuenta(letra, cadena):\n",
    "    contador = 0\n",
    "    for x in cadena:\n",
    "        if x == str(letra):\n",
    "            contador = contador + 1\n",
    "    print(contador)"
   ]
  },
  {
   "cell_type": "code",
   "execution_count": 16,
   "metadata": {},
   "outputs": [
    {
     "name": "stdout",
     "output_type": "stream",
     "text": [
      "7\n"
     ]
    }
   ],
   "source": [
    "cuenta('z', 'sajkzdczhvzcxgzcvzhjvhzbjbbcyvacbwñaz')"
   ]
  },
  {
   "cell_type": "code",
   "execution_count": 28,
   "metadata": {},
   "outputs": [
    {
     "data": {
      "text/plain": [
       "'En 3 años he divisado 0.5946431 camellos.'"
      ]
     },
     "execution_count": 28,
     "metadata": {},
     "output_type": "execute_result"
    }
   ],
   "source": [
    "'En %d años he divisado %0.7g %s.' % (3, 0.5946431269, 'camellos')"
   ]
  },
  {
   "cell_type": "code",
   "execution_count": 29,
   "metadata": {},
   "outputs": [
    {
     "name": "stdout",
     "output_type": "stream",
     "text": [
      "8475.0\n"
     ]
    }
   ],
   "source": [
    "#Ejercicio 6.5\n",
    "\n",
    "cad = 'X-DSPAM-Confidence: 0.8475'\n",
    "pos_punto = cad.find('.')\n",
    "num = float(cad[pos_punto+1:])\n",
    "print(num)\n"
   ]
  },
  {
   "cell_type": "code",
   "execution_count": 3,
   "metadata": {},
   "outputs": [
    {
     "name": "stdout",
     "output_type": "stream",
     "text": [
      "1\n"
     ]
    }
   ],
   "source": [
    "cuenta('z', 'jsadhkfdjhgfsdajkz')"
   ]
  }
 ],
 "metadata": {
  "kernelspec": {
   "display_name": "Python 3",
   "language": "python",
   "name": "python3"
  },
  "language_info": {
   "codemirror_mode": {
    "name": "ipython",
    "version": 3
   },
   "file_extension": ".py",
   "mimetype": "text/x-python",
   "name": "python",
   "nbconvert_exporter": "python",
   "pygments_lexer": "ipython3",
   "version": "3.7.4"
  }
 },
 "nbformat": 4,
 "nbformat_minor": 2
}
